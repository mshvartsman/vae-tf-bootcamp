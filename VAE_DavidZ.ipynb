{
 "cells": [
  {
   "cell_type": "markdown",
   "metadata": {},
   "source": [
    "# Variational Autoencoder Tutorial in TensorFlow \n",
    "## David Zoltowski"
   ]
  },
  {
   "cell_type": "markdown",
   "metadata": {},
   "source": [
    "The tutorial is organized in the following manner:\n",
    "1. Set-up: importing packages, data, defining useful functions, and parameter settings\n",
    "2. Building the computational graph: defining the series of operations we perform on an input. This is where we build the encoder and decoder networks and implement the reparametrization trick. Additionally, we define the loss function used to optimize the parameters of the graph.\n",
    "3. Training the model: we train the model using stochastic gradient descent on mini-batches of data, optimizing the loss function. \n",
    "4. Visualization: visualize the ability of the trained models to reconstruct test images and sampling new images from the prior."
   ]
  },
  {
   "cell_type": "markdown",
   "metadata": {},
   "source": [
    "### 1. Set-up."
   ]
  },
  {
   "cell_type": "markdown",
   "metadata": {},
   "source": [
    "First, import the necessary packages, numpy and tensorflow, and the data on which we will train the model, MNIST."
   ]
  },
  {
   "cell_type": "code",
   "execution_count": 1,
   "metadata": {},
   "outputs": [
    {
     "name": "stdout",
     "output_type": "stream",
     "text": [
      "Extracting MNIST_data/train-images-idx3-ubyte.gz\n",
      "Extracting MNIST_data/train-labels-idx1-ubyte.gz\n",
      "Extracting MNIST_data/t10k-images-idx3-ubyte.gz\n",
      "Extracting MNIST_data/t10k-labels-idx1-ubyte.gz\n"
     ]
    }
   ],
   "source": [
    "import numpy as np \n",
    "import tensorflow as tf\n",
    "\n",
    "# import MNIST data\n",
    "from tensorflow.examples.tutorials.mnist import input_data\n",
    "mnist = input_data.read_data_sets('MNIST_data', one_hot=True)"
   ]
  },
  {
   "cell_type": "markdown",
   "metadata": {},
   "source": [
    "When defining the model we will define many sets of weight and bias parameters (variables). I have copied this function from the TensorFlow website to define normal distributed weight variables, truncated at 2 standard deviations, and constant bias variables. From the TensorFlow website: \"Variables allow us to add trainable parameters to a graph. They are constructed with a type and initial value\" e.g. tf.Variable([0.0],dtype=tf.float32)."
   ]
  },
  {
   "cell_type": "code",
   "execution_count": 2,
   "metadata": {
    "collapsed": true
   },
   "outputs": [],
   "source": [
    "# define functions to create weight and bias variables, from TensorFlow.org\n",
    "def weight_variable(shape):\n",
    "  initial = tf.truncated_normal(shape, stddev=0.1)\n",
    "  return tf.Variable(initial)\n",
    "\n",
    "def bias_variable(shape):\n",
    "  initial = tf.constant(0.1, shape=shape)\n",
    "  return tf.Variable(initial)"
   ]
  },
  {
   "cell_type": "markdown",
   "metadata": {},
   "source": [
    "The final part of the set-up is to define the size of different parts of our network. We specifiy the input size to be the length of a image stacked into a vector, the number of hidden units in each of our hidden layers, and the dimensionality of the latent space."
   ]
  },
  {
   "cell_type": "code",
   "execution_count": 3,
   "metadata": {
    "collapsed": true
   },
   "outputs": [],
   "source": [
    "latent_dim = 20; # size of latent space\n",
    "input_size = 784; # size of input image vector\n",
    "hidden_size = 500; # size of hidden layers in neural network"
   ]
  },
  {
   "cell_type": "markdown",
   "metadata": {},
   "source": [
    "### 2. Building the computational graph."
   ]
  },
  {
   "cell_type": "markdown",
   "metadata": {},
   "source": [
    "We use the placeholder construct in TensorFlow to parametrize the graph to accept inputs (TensorFlow.org). The placeholders fixes a node in the computational graph with no value, but a value which we will specify later. \n",
    "\n",
    "We define the placeholder with the type of input, here a floating point tf.float32, and size of input. Our input to placeholders will be a mini-batch of images. We specify the size following the TensorFlow webiste: \"We want to be able to input any number of MNIST images, each flattened into a 784-dimensional vector. We represent this as a 2-D tensor of floating-point numbers, with a shape [None, 784]. (Here None means that a dimension can be of any length.)\""
   ]
  },
  {
   "cell_type": "code",
   "execution_count": 4,
   "metadata": {
    "collapsed": true
   },
   "outputs": [],
   "source": [
    "x = tf.placeholder(tf.float32, shape=[None, 784])"
   ]
  },
  {
   "cell_type": "markdown",
   "metadata": {},
   "source": [
    "The next stage of the VAE is to build the decoder network, also called the inference network or approximate posterior. This network will map the image vector to two vectors of size \"latent_dim\": a mean vector and a log variance vector. \n",
    "\n",
    "I created a network with two hidden layers. I defined two sets of hidden layer weights, W1 and W2, and two sets of hidden layer biases, b1 and b2. The weights are matrices with dimensionality \"input layer x current layer\" and the biases are vectors with dimensionality \"current layer\". For each layer, I used the \"tf.matmul\" function to multiply the preceding input and the weight matrices, and then added the biases. Finally, I passed the sum W \\* x + b through a sigmoidal nonlinearity using \"tf.nn.sigmoid\"."
   ]
  },
  {
   "cell_type": "code",
   "execution_count": 6,
   "metadata": {},
   "outputs": [],
   "source": [
    "# encoder network\n",
    "W1 = weight_variable([input_size,hidden_size])\n",
    "b1 = bias_variable([hidden_size])\n",
    "h1 = tf.nn.sigmoid(tf.matmul(x, W1) + b1)\n",
    "W2 = weight_variable([hidden_size,hidden_size])\n",
    "b2 = bias_variable([hidden_size])\n",
    "h2 = tf.nn.sigmoid(tf.matmul(h1,W2) + b2)"
   ]
  },
  {
   "cell_type": "markdown",
   "metadata": {},
   "source": [
    "Now we need to read out the second hidden layer to the mean vector and log variance vector. I introduce two more sets of weights and biases corresponding to each output vector. The output vectors are not passed through a nonlinearity. I chose to output the log variance so that I did not have to worry about positivity constraints. "
   ]
  },
  {
   "cell_type": "code",
   "execution_count": 7,
   "metadata": {
    "collapsed": true
   },
   "outputs": [],
   "source": [
    "# get mean\n",
    "W_hidden_mean = weight_variable([hidden_size, latent_dim])\n",
    "b_hidden_mean = bias_variable([latent_dim])\n",
    "hidden_mean = tf.matmul(h2, W_hidden_mean) + b_hidden_mean\n",
    "\n",
    "# get sigma - log variances\n",
    "W_hidden_sigma = weight_variable([hidden_size, latent_dim])\n",
    "b_hidden_sigma = bias_variable([latent_dim])\n",
    "hidden_log_sigma_sqr = tf.matmul(h2, W_hidden_sigma) + b_hidden_sigma"
   ]
  },
  {
   "cell_type": "markdown",
   "metadata": {},
   "source": [
    "The preceding layers will output a mean vector and log variance vector for every input image in the batch, corresponding to the mean and variance parameters of the approximate posterior for each image. We will train the parameters of the variatonal autoencoder - both the parameters of the approximate posterior q(z|x) and generative model p(x|z) which we have yet to define - using stochastic estimates of the evidence lower bound (ELBO): E_q(z|x)[log p(x|z)] - D_KL[q(z|x)||p(z)], where p(z) is N(0,I). \n",
    "\n",
    "We will estimate the ELBO expectation using one sample from q(z|x) for each data point. This is where we use the reparametrization trick obtain lower variance gradients. Instead, we will draw noise eps from a zero mean, identity covariance Gaussian and map it to a sample from each q(z|x) using the mean and log variance vectors: z = mu + eps.\\* variance.\n",
    "\n",
    "We draw a noise vector eps and map it to a sample from the posterior q(z|x) for each input image x in the mini-batch with the following lines of code."
   ]
  },
  {
   "cell_type": "code",
   "execution_count": 8,
   "metadata": {
    "collapsed": true
   },
   "outputs": [],
   "source": [
    "# sample noise with same shape as log variance vectors\n",
    "eps = tf.random_normal(tf.shape(hidden_log_sigma_sqr), 0, 1, dtype=tf.float32)\n",
    "\n",
    "# get a sample from the approximate posterior for each input\n",
    "# add mean and the std (sqrt of the exponentiated log variances) pointwise times noise\n",
    "hidden_sample = hidden_mean + tf.multiply(tf.sqrt(tf.exp(hidden_log_sigma_sqr)),eps)"
   ]
  },
  {
   "cell_type": "markdown",
   "metadata": {},
   "source": [
    "Now that we have a sample z from the approximate posterior q(z|x), we pass z through a decoder network to reconstruct the image. I defined the decoder network similarly to the same way as the encoder network, with two hidden layers. However, this time the input to the network is of dimensionality \"latent_dim\" and the output of dimension 784 x 1, the image size, is passed through a sigmoidal function to be in [0,1]."
   ]
  },
  {
   "cell_type": "code",
   "execution_count": 9,
   "metadata": {
    "collapsed": true
   },
   "outputs": [],
   "source": [
    "# decoder network - map the hidden sample to an output of size = image size\n",
    "W3 = weight_variable([latent_dim,hidden_size])\n",
    "b3 = bias_variable([hidden_size])\n",
    "h3 = tf.nn.sigmoid(tf.matmul(hidden_sample, W3) + b3)\n",
    "W4 = weight_variable([hidden_size,hidden_size])\n",
    "b4 = bias_variable([hidden_size])\n",
    "h4 = tf.nn.sigmoid(tf.matmul(h3,W4) + b4)\n",
    "\n",
    "# output x_hat, the reconstruction mean\n",
    "W_out = weight_variable([hidden_size,input_size])\n",
    "b_out = bias_variable([input_size])\n",
    "x_hat = tf.nn.sigmoid(tf.matmul(h4, W_out) + b_out)"
   ]
  },
  {
   "cell_type": "markdown",
   "metadata": {},
   "source": [
    "The last part of the computational graph that we need to specify is the training objective. The objective consists of two parts: the reconstruction loss - corresponding go log p(x|z) - and the KL divergence D_KL( q(z|x) || p(z) ).\n",
    "\n",
    "I will set the reconstruction loss to be the sum of squared errors between each pixel of the input image x and output of the network x_hat. This corresponds to log p(x|z) up to an additive constant when p(x|z) is N(mu(z),I)."
   ]
  },
  {
   "cell_type": "code",
   "execution_count": 10,
   "metadata": {
    "collapsed": true
   },
   "outputs": [],
   "source": [
    "# reconstruction loss is squared error between reconstruction and image (MLE in N(mu(x),sigma^2 I))\n",
    "reconstruction_loss = tf.reduce_sum(tf.square(x-x_hat)/0.5,1)"
   ]
  },
  {
   "cell_type": "markdown",
   "metadata": {},
   "source": [
    "A loss that I have observed being used is the cross entropy of the output reconstruction and the true image value, which is mathematically equivalent to the Bernoulli log likelihood of each pixel of image x given each parameter x_hat. However, we are confused as to why this loss is being use, as the pixel values are not binary."
   ]
  },
  {
   "cell_type": "code",
   "execution_count": 11,
   "metadata": {
    "collapsed": true
   },
   "outputs": [],
   "source": [
    "# another loss people use is the cross entropy of the output reconstruction and true image value\n",
    "# reconstruction loss is Bernoulli log likelihood of each pixel of image x given x hat (output of decoder)\n",
    "#reconstruction_loss = -tf.reduce_sum(x * tf.log(1e-10 + x_hat) + (1-x) * tf.log(1e-10 + 1 - x_hat),1)"
   ]
  },
  {
   "cell_type": "markdown",
   "metadata": {},
   "source": [
    "The KL divergence between two normal distributions q(z|x) and p(z) has an exact form."
   ]
  },
  {
   "cell_type": "code",
   "execution_count": 12,
   "metadata": {
    "collapsed": true
   },
   "outputs": [],
   "source": [
    "# KL divegence between the approximate posterior and prior\n",
    "kl_divergence = -0.5 * tf.reduce_sum(1 + hidden_log_sigma_sqr - tf.square(hidden_mean) - tf.exp(hidden_log_sigma_sqr), 1)"
   ]
  },
  {
   "cell_type": "markdown",
   "metadata": {},
   "source": [
    "The training objective \"loss\" is the mean of the reconstruction loss and KL divergence loss across the images in the mini-batch. We will train the variables in our model to minimize the loss, using the tf.train API. I have defined a training step below which will use the Adam optimizer."
   ]
  },
  {
   "cell_type": "code",
   "execution_count": 13,
   "metadata": {
    "scrolled": false
   },
   "outputs": [],
   "source": [
    "# avg_loss is the mean across images x in the batch\n",
    "loss = tf.reduce_mean(reconstruction_loss + kl_divergence);\n",
    "\n",
    "# train step\n",
    "train_step = tf.train.AdamOptimizer(1e-3).minimize(loss)"
   ]
  },
  {
   "cell_type": "markdown",
   "metadata": {},
   "source": [
    "### 3. Training the model."
   ]
  },
  {
   "cell_type": "markdown",
   "metadata": {},
   "source": [
    "The training code was modified from https://jmetzen.github.io/2015-11-27/vae.html."
   ]
  },
  {
   "cell_type": "code",
   "execution_count": 14,
   "metadata": {},
   "outputs": [
    {
     "name": "stdout",
     "output_type": "stream",
     "text": [
      "Epoch: 0001 loss= 101.710126051\n",
      "Epoch: 0002 loss= 74.687621460\n",
      "Epoch: 0003 loss= 62.680545023\n",
      "Epoch: 0004 loss= 58.401112726\n",
      "Epoch: 0005 loss= 55.899328676\n",
      "Epoch: 0006 loss= 54.053136749\n",
      "Epoch: 0007 loss= 52.529357328\n",
      "Epoch: 0008 loss= 51.337708685\n",
      "Epoch: 0009 loss= 50.435387976\n",
      "Epoch: 0010 loss= 49.560607688\n",
      "Epoch: 0011 loss= 48.787097952\n",
      "Epoch: 0012 loss= 48.163268800\n",
      "Epoch: 0013 loss= 47.568813594\n",
      "Epoch: 0014 loss= 46.933215880\n",
      "Epoch: 0015 loss= 46.377606236\n",
      "Epoch: 0016 loss= 45.978230202\n",
      "Epoch: 0017 loss= 45.603746449\n",
      "Epoch: 0018 loss= 45.278219813\n",
      "Epoch: 0019 loss= 45.043410381\n",
      "Epoch: 0020 loss= 44.720613806\n",
      "Epoch: 0021 loss= 44.492978654\n",
      "Epoch: 0022 loss= 44.294472053\n",
      "Epoch: 0023 loss= 44.048974665\n",
      "Epoch: 0024 loss= 43.889628795\n",
      "Epoch: 0025 loss= 43.640362140\n",
      "Epoch: 0026 loss= 43.510595273\n",
      "Epoch: 0027 loss= 43.327448203\n",
      "Epoch: 0028 loss= 43.154704056\n",
      "Epoch: 0029 loss= 43.003979319\n",
      "Epoch: 0030 loss= 42.821728224\n",
      "Epoch: 0031 loss= 42.703358057\n",
      "Epoch: 0032 loss= 42.536656369\n",
      "Epoch: 0033 loss= 42.396530470\n",
      "Epoch: 0034 loss= 42.276359086\n",
      "Epoch: 0035 loss= 42.130464221\n",
      "Epoch: 0036 loss= 42.015516066\n",
      "Epoch: 0037 loss= 41.914743937\n",
      "Epoch: 0038 loss= 41.758315991\n",
      "Epoch: 0039 loss= 41.607271354\n",
      "Epoch: 0040 loss= 41.509473336\n",
      "Epoch: 0041 loss= 41.382994655\n",
      "Epoch: 0042 loss= 41.248079432\n",
      "Epoch: 0043 loss= 41.193113424\n",
      "Epoch: 0044 loss= 41.081081238\n",
      "Epoch: 0045 loss= 40.977247148\n",
      "Epoch: 0046 loss= 40.890645058\n",
      "Epoch: 0047 loss= 40.766621212\n",
      "Epoch: 0048 loss= 40.693657442\n",
      "Epoch: 0049 loss= 40.613493368\n",
      "Epoch: 0050 loss= 40.534157701\n"
     ]
    }
   ],
   "source": [
    "# saver to save model\n",
    "saver = tf.train.Saver()\n",
    "\n",
    "# train network\n",
    "sess = tf.InteractiveSession()\n",
    "sess.run(tf.global_variables_initializer())\n",
    "n_samples = mnist.train.num_examples\n",
    "# Training cycle\n",
    "training_epochs = 50\n",
    "batch_size = 100\n",
    "display_step = 1\n",
    "for epoch in range(training_epochs):\n",
    "    avg_loss = 0.\n",
    "    total_batch = int(n_samples / batch_size)\n",
    "    # Loop over all batches\n",
    "    for i in range(total_batch):\n",
    "        x_batch = mnist.train.next_batch(batch_size)\n",
    "        current_loss = loss.eval(feed_dict={x:x_batch[0]}) #/ n_samples * batch_size\n",
    "        # Compute average loss\n",
    "        avg_loss += current_loss / n_samples * batch_size\n",
    "        # Fit training using batch data\n",
    "        train_step.run(feed_dict={x: x_batch[0]})\n",
    "    # Display logs per epoch step\n",
    "    if epoch % display_step == 0:\n",
    "        print(\"Epoch:\", '%04d' % (epoch+1), \n",
    "            \"loss=\", \"{:.9f}\".format(avg_loss))\n",
    "\n",
    "#saver.save(sess, 'davidz_vae_150_epochs')"
   ]
  },
  {
   "cell_type": "code",
   "execution_count": 15,
   "metadata": {
    "collapsed": true
   },
   "outputs": [],
   "source": [
    "#saver = tf.train.import_meta_graph('davidz_vae_150_epochs.meta')\n",
    "#saver.restore(sess,tf.train.latest_checkpoint('./'))"
   ]
  },
  {
   "cell_type": "markdown",
   "metadata": {},
   "source": [
    "### Visualization"
   ]
  },
  {
   "cell_type": "markdown",
   "metadata": {},
   "source": [
    "This piece of code takes a test image from MNIST (x_sample) and evaluates the reconstruction x_hat when x_sample is fed into the VAE. "
   ]
  },
  {
   "cell_type": "code",
   "execution_count": 17,
   "metadata": {},
   "outputs": [
    {
     "data": {
      "image/png": "[encoded data removed]",
      "text/plain": [
       "<matplotlib.figure.Figure at 0x11be42780>"
      ]
     },
     "metadata": {},
     "output_type": "display_data"
    }
   ],
   "source": [
    "# reconstruct\n",
    "import matplotlib.pyplot as plt\n",
    "%matplotlib inline\n",
    "x_sample = mnist.test.next_batch(1)[0]\n",
    "x_reconstruct = x_hat.eval(feed_dict={x:x_sample})\n",
    "plt.figure\n",
    "plt.subplot(1, 2, 1)\n",
    "plt.imshow(x_sample.reshape(28, 28), vmin=0, vmax=1, cmap=\"gray\")\n",
    "plt.title(\"Test input\")\n",
    "plt.colorbar()\n",
    "plt.subplot(1, 2, 2)\n",
    "plt.imshow(x_reconstruct.reshape(28, 28), vmin=0, vmax=1, cmap=\"gray\")\n",
    "plt.title(\"Reconstruction\")\n",
    "plt.colorbar()\n",
    "plt.tight_layout()"
   ]
  },
  {
   "cell_type": "code",
   "execution_count": 19,
   "metadata": {},
   "outputs": [
    {
     "data": {
      "image/png": "[encoded data removed]",
      "text/plain": [
       "<matplotlib.figure.Figure at 0x11b94aa20>"
      ]
     },
     "metadata": {},
     "output_type": "display_data"
    }
   ],
   "source": [
    "# generate\n",
    "eps = np.random.normal(0,1,size=latent_dim)\n",
    "eps = np.array(eps).reshape(1,latent_dim)\n",
    "import matplotlib.pyplot as plt\n",
    "%matplotlib inline\n",
    "x_reconstruct = x_hat.eval(feed_dict={hidden_sample:eps})\n",
    "plt.figure\n",
    "plt.imshow(x_reconstruct.reshape(28, 28), vmin=0, vmax=1, cmap=\"gray\")\n",
    "plt.title(\"Test input\")\n",
    "plt.colorbar()\n",
    "plt.tight_layout()\n"
   ]
  },
  {
   "cell_type": "code",
   "execution_count": null,
   "metadata": {
    "collapsed": true
   },
   "outputs": [],
   "source": [
    "# to add normalizing flows, need to estimate entropy of log posterior rather than compute KL explicitly, \n",
    "# compute probability of latent variable explicitly rather than in KL, \n",
    "# compute Jacobian determinant terms for penalizing ELBO\n",
    "# ensure flows are parametrized in a good way"
   ]
  }
 ],
 "metadata": {
  "kernelspec": {
   "display_name": "py36",
   "language": "python",
   "name": "py36"
  },
  "language_info": {
   "codemirror_mode": {
    "name": "ipython",
    "version": 3
   },
   "file_extension": ".py",
   "mimetype": "text/x-python",
   "name": "python",
   "nbconvert_exporter": "python",
   "pygments_lexer": "ipython3",
   "version": "3.6.1"
  }
 },
 "nbformat": 4,
 "nbformat_minor": 2
}
