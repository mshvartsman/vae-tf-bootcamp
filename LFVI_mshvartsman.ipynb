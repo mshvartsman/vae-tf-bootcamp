{
 "cells": [
  {
   "cell_type": "markdown",
   "metadata": {},
   "source": [
    "# LFVI for HDDM\n",
    "\n",
    "Suppose we have a subject-level data generating distribution $p(x\\mid z,\\beta)$ where $z$ is a \"local\" latent varaible, and $\\beta$ is a \"global\" latent variable (i.e. a hyperparameter in a hierarchical setting). For example, $z$ could be a subject-specific DDM parameter, and $\\beta$ could be the the group mean / variance etc. We are interested in the setting where this likelihood is intractable, i.e. has no \"cheap\" closed-form expression. We assume that we do however have a fast simulator for drawing samples $x \\sim p(x\\mid z, \\beta)$. \n",
    "\n",
    "What we actually want for our typical application is $p(\\beta\\mid x)$, i.e. the marginal posterior of the population hyperparameters. As we know from Gelman, we can find the marginal posterior mode by EM or other variational methods. First, we derive our variational objective. This is pretty much straight out of Gelman's BDA. First, use law of conditional probability: \n",
    "\n",
    "$$\n",
    "\\log p(\\beta \\mid x) = \\log p(\\beta, z \\mid x) - \\log p(z \\mid \\beta, x)\n",
    "$$\n",
    "\n",
    "Next, introduce the variational posterior $q(z \\mid \\beta, x)$ summing to 0\n",
    "\n",
    "$$\n",
    "\\log p(\\beta \\mid x) = \\log p(\\beta, z \\mid x) - \\log p(z \\mid \\beta, x)+ q(z \\mid \\beta, x)- q(z \\mid \\beta, x)\n",
    "$$\n",
    "\n",
    "Now take expectation with respect to the variational posterior. Since the LHS is independent of $z$, immediately drop the expectation on the LHS: \n",
    "\n",
    "$$\n",
    "\\log p(\\beta \\mid x) = \\mathbb{E}_{q(z \\mid \\beta, x)}\\log p(\\beta, z \\mid x) - \\mathbb{E}_{q(z \\mid \\beta, x)}\\log p(z \\mid \\beta, x)+ \\mathbb{E}_{q(z \\mid \\beta, x)} q(z \\mid \\beta, x)- \\mathbb{E}_{q(z \\mid \\beta, x)}q(z \\mid \\beta, x)\n",
    "$$\n",
    "\n",
    "Recognize that we now have a KL divergence, so collect it: \n",
    "\n",
    "$$\n",
    "\\log p(\\beta \\mid x) = \\mathbb{E}_{q(z \\mid \\beta, x)}\\log p(\\beta, z \\mid x) - \\mathbb{E}_{q(z \\mid \\beta, x)} q(z \\mid \\beta, x)- \\mathcal{D}_{KL}(q(z \\mid \\beta, x)||p(z \\mid \\beta, x))\n",
    "$$\n",
    "\n",
    "What we ended up with is the expected log joint posterior, the enrtopy of the variational posterior, and the KL divergence between the true and variational posterior. The entropy of the variational posterior is constant, and the KL term goes to 0 as the variational posterior approaches the true posterior. That is: by maximizing the first term, we maximize a lower bound on the posterior mode. The first two terms together are sometimes called the evidence lower bound or ELBO, which we expand and expand by Bayes' rule: \n",
    "\n",
    "$$\n",
    "\\begin{aligned}\n",
    "\\mathcal{L} &= \\mathbb{E}_{q(z \\mid \\beta, x)}\\log p(\\beta, z \\mid x) - \\mathbb{E}_{q(z \\mid \\beta, x)} q(z \\mid \\beta, x)\\\\\n",
    "&= \\mathbb{E}_{q(z \\mid \\beta, x)}\\log p(x \\mid \\beta, z) - \\mathbb{E}_{q(z \\mid \\beta, x)}\\log p(\\beta, z)-  \\mathbb{E}_{q(z \\mid \\beta, x)}\\log p(x)- \\mathbb{E}_{q(z \\mid \\beta, x)} q(z \\mid \\beta, x)\n",
    "\\end{aligned}\n",
    "$$\n",
    "\n",
    "The last term is the normalization constant for Bayes' rule, so we don't need to worry about it for optimizing the ELBO. The second term is the expected log prior, and is also fine (at worst, we could use monte carlo expectation). But the first term, as mentioned above, has no tractable explicit likelihood. "
   ]
  },
  {
   "cell_type": "markdown",
   "metadata": {},
   "source": [
    "What we will do here is use a differentiable ratio estimator to get around the problem. The idea is directly taken from Tran et al. 2017 but we use it slightly differently because (a) we want a posterior marginal rather than marginal likelihood (that just means we add a prior), and (b) we exploit the fact that the conditional distribution $p(z\\mid \\beta)$ is nice in the hierarchical regression setting. First, we introduce a variational empirical density $\\mathbb{E}_{q(z \\mid \\beta, x)} q(x)$: \n",
    "\n",
    "$$\n",
    "\\mathcal{L} =\\mathbb{E}_{q(z \\mid \\beta, x)}\\log p(x \\mid z, \\beta) + \\mathbb{E}_{q(z \\mid \\beta, x)}\\log p(z, \\beta)-  \\mathbb{E}_{q(z \\mid \\beta, x)}\\log p(x) - \\mathbb{E}_{q(z \\mid \\beta, x)} q(z \\mid \\beta, x)-\\mathbb{E}_{q(z \\mid\\beta, x)} q(x)+\\mathbb{E}_{q(z \\mid \\beta, x)} q(x)\n",
    "$$\n",
    "\n",
    "We use that to collect and rearrange: \n",
    "\n",
    "$$\n",
    "\\begin{aligned}\n",
    "\\mathcal{L} =&\\mathbb{E}_{q(z \\mid \\beta, x)}\\log p(x \\mid z, \\beta) + \\mathbb{E}_{q(z \\mid \\beta, x)}\\log p(z, \\beta)-  \\mathbb{E}_{q(z \\mid \\beta, x)}\\log p(x) - \\mathbb{E}_{q(z \\mid \\beta, x)} q(x, z \\mid \\beta)+\\mathbb{E}_{q(z \\mid \\beta, x)} q(x)\\\\\n",
    "=& \\mathbb{E}_{q(z \\mid \\beta, x)}\\log p(x \\mid z, \\beta) + \\mathbb{E}_{q(z \\mid \\beta, x)}\\log p(z, \\beta)-  \\mathbb{E}_{q(z \\mid \\beta, x)}\\log p(x)\\\\\n",
    "&- \\mathbb{E}_{q(z \\mid \\beta, x)}\\log q(x \\mid z,\\beta)-  \\mathbb{E}_{q(z \\mid \\beta, x)}\\log q(z \\mid \\beta)+\\mathbb{E}_{q(z \\mid \\beta, x)} q(x)\\\\\n",
    "=& \\mathbb{E}_{q(z \\mid \\beta, x)}\\log p(x \\mid z, \\beta) + \\mathbb{E}_{q(z \\mid \\beta, x)}\\log p(z \\mid \\beta)+ \\mathbb{E}_{q(z \\mid \\beta, x)}\\log p( \\beta)-  \\mathbb{E}_{q(z \\mid \\beta, x)}\\log p(x)\\\\\n",
    "&- \\mathbb{E}_{q(z \\mid \\beta, x)}\\log q(x \\mid z,\\beta)-  \\mathbb{E}_{q(z \\mid \\beta, x)}\\log q(z \\mid \\beta)+\\mathbb{E}_{q(z \\mid \\beta, x)} q(x)\n",
    "\\end{aligned}\n",
    "$$\n",
    "\n",
    "This is just a prior plus a sum of density ratios: \n",
    "\n",
    "$$\n",
    "\\mathcal{L} =\\mathbb{E}_{q(z \\mid \\beta, x)}\\log \\frac{p(x \\mid z, \\beta)}{q(x \\mid z, \\beta)} + \\mathbb{E}_{q(z \\mid \\beta, x)}\\log \\frac{p(z \\mid \\beta)}{q(z \\mid \\beta)}-  \\mathbb{E}_{q(z \\mid \\beta, x)}\\log\\frac{p(x)}{q(x)}+\\mathbb{E}_{q(z \\mid \\beta, x)}\\log p( \\beta)\n",
    "$$\n",
    "\n",
    "Here is where we diverge from the LFVI paper a little. In their case, they combine our first two terms, and use a differentiable density estimator for that density. This does not require them to pick a variational $q(z\\mid \\beta)$. For our case, we make both $q(z\\mid \\beta)$ and $q(z\\mid \\beta)$ multivariate Gaussian (with $q$ parameterized by $\\beta'$). We make $q(z\\mid\\beta,x)$ a gaussian with mean and (diagonal) variance functions modeled by neural networks (this is the usual VAE trick, and we do the usual reparameterization here). We import the ratio estimation trick wholesale from Tran et al.: the basic idea is that if we train a classifier to discriminate between the simulator $p(x\\mid z, \\beta)$ and the surrogate simulator $q(x\\mid z, \\beta)$, the ratio of the predicted class assignments approximates the ratio of densities. To find this ratio estimator, we minimize the following loss or any other proper scoring rule: \n",
    "\n",
    "$$\n",
    "\\mathcal{D}_{\\log} = \\mathbb{E}_{p(x\\mid z, \\beta)}\\left[-\\log\\sigma (r(x, z, \\beta; \\theta))\\right] + \\mathbb{E}_{q(x\\mid z, \\beta)}\\left[-\\log\\sigma(1- r(x, z, \\beta; \\theta))\\right]\n",
    "$$\n",
    "\n",
    "We minimize this in the parameters $\\theta$ of anoher neural network function $r(\\cdot)$. Next, we plug in the real $x$ to evaluate the ratio as part of the rest of the ELBO, which we minimize in the other parameters. Now we implement. "
   ]
  },
  {
   "cell_type": "code",
   "execution_count": 1,
   "metadata": {
    "collapsed": false
   },
   "outputs": [
    {
     "name": "stderr",
     "output_type": "stream",
     "text": [
      "/Users/ms44/anaconda/envs/tf/lib/python3.6/importlib/_bootstrap.py:205: RuntimeWarning: compiletime version 3.5 of module 'tensorflow.python.framework.fast_tensor_util' does not match runtime version 3.6\n",
      "  return f(*args, **kwds)\n"
     ]
    }
   ],
   "source": [
    "# support functions\n",
    "\n",
    "import tensorflow as tf\n",
    "from tensorflow.contrib.distributions import MultivariateNormalTriL, MultivariateNormalDiag, Normal, kl_divergence\n",
    "from scipy.stats import norm\n",
    "import numpy as np\n",
    "\n",
    "def _dense_mlp_layer(x, input_size, out_size, nonlinearity=tf.nn.softmax, name_prefix=\"\"):\n",
    "    \"\"\" One MLP layer. Can probably be replaced with keras...\"\"\"\n",
    "    # if x is a tensorflow object, apply to only this object\n",
    "    w_init = tf.truncated_normal(shape=[out_size, input_size], stddev=0.001, dtype=global_dtype)\n",
    "    b_init = tf.ones(shape=[out_size, 1]) * 0.1\n",
    "    W = tf.Variable(w_init, name=\"%s_W\" % name_prefix, dtype=global_dtype)\n",
    "    b = tf.Variable(b_init, name=\"%s_b\" % name_prefix, dtype=global_dtype)\n",
    "    if isinstance(x, tf.Variable) or isinstance(x, tf.Tensor):\n",
    "        out = nonlinearity(tf.matmul(W, x) + b)\n",
    "    else: # otherwise if it is iterable apply to all \n",
    "        out = [nonlinearity(tf.matmul(W, x_) + b) for x_ in x]\n",
    "    return out, [W, b]\n",
    "\n",
    "def _mlp(x, input_size, n_layers, units_per_layer, out_size, nonlinearity=tf.tanh, batch_size=None):\n",
    "    \"\"\" A feedforward net. Can probably be replaced with keras...\"\"\"\n",
    "    train_vars = []\n",
    "    x, v = _dense_mlp_layer(x, input_size, units_per_layer, nonlinearity, name_prefix=\"into_hidden\")\n",
    "    train_vars.extend(v)\n",
    "    # exploit the fact that repeatedly calling the same TF function creates multiple ops. \n",
    "    # no need to hang onto the intermediate layer handles (though we can get them back if we need them)\n",
    "    for l in range(n_layers-1):\n",
    "        x, v = _dense_mlp_layer(x, units_per_layer, units_per_layer, nonlinearity, name_prefix=\"hidden\")\n",
    "        train_vars.extend(v)\n",
    "\n",
    "    x, v = _dense_mlp_layer(x, units_per_layer, out_size, nonlinearity, name_prefix=\"readout\")\n",
    "    train_vars.extend(v)\n",
    "    return x, train_vars\n",
    "\n",
    "def _reparam_nnet_gaussian(inp, out_size, nnet_conf):\n",
    "    \"\"\"Gaussian parameterized by mean and covariance nets, with reparameterization trick \"\"\"\n",
    "    q_network, q_vars = _mlp(inp, **nnet_conf)\n",
    "    # now map from this net to params of a gaussian\n",
    "    # weigts\n",
    "    w_mu = tf.Variable(tf.truncated_normal(shape=[out_size, nnet_conf['out_size']], stddev=0.1), name=\"w_mu\")\n",
    "    w_logsig = tf.Variable(tf.truncated_normal(shape=[out_size, nnet_conf['out_size']], stddev=0.1), name=\"w_logsig\")\n",
    "    # biases\n",
    "    b_mu = tf.Variable(tf.truncated_normal(shape=[out_size, 1], stddev=0.1), name=\"b_mu\")\n",
    "    b_logsig = tf.Variable(tf.truncated_normal(shape=[out_size, 1], stddev=0.1), name=\"b_logsig\")\n",
    "    # mean and var\n",
    "    epsilon = tf.random_normal([out_size, 1])\n",
    "\n",
    "    if isinstance(q_network, tf.Variable) or isinstance(q_network, tf.Tensor):\n",
    "        q_mu = tf.matmul(w_mu, q_network) + b_mu\n",
    "        q_logsigma = tf.matmul(w_logsig, q_network) + b_logsig\n",
    "        # draw a sample\n",
    "        x = q_mu + tf.sqrt(tf.exp(q_logsigma)) * epsilon\n",
    "\n",
    "    else: # otherwise if it is iterable apply to all \n",
    "        q_mu = [tf.matmul(w_mu, q) + b_mu for q in q_network]\n",
    "        q_logsigma = [tf.matmul(w_logsig, q) + b_logsig for q in q_network]\n",
    "        # draw a sample\n",
    "        x = [mu + tf.sqrt(tf.exp(logsigma)) * epsilon for mu, logsigma in zip(q_mu, q_logsigma)]\n",
    "\n",
    "    return x, [*q_vars, w_mu, w_logsig, b_mu, b_logsig]"
   ]
  },
  {
   "cell_type": "code",
   "execution_count": 2,
   "metadata": {
    "collapsed": true
   },
   "outputs": [],
   "source": [
    "# synth data and config\n",
    "tf.set_random_seed(1)\n",
    "beta_mu = 15\n",
    "beta_var = 10\n",
    "subj_var = 1\n",
    "\n",
    "beta_size = 2 # mean, var\n",
    "z_size = 1\n",
    "n_subj = 20\n",
    "obs_per_subj = 100\n",
    "\n",
    "# trivial subjectwise simulator\n",
    "def psim(subj_var, z):\n",
    "    return norm.rvs(loc=z, scale=subj_var, size=[obs_per_subj, 1])\n",
    "\n",
    "# now zs are each subject's mean\n",
    "z_data = norm.rvs(loc=beta_mu, scale=beta_var, size=n_subj)\n",
    "x_data = np.array([psim(subj_var, zs) for zs in z_data])"
   ]
  },
  {
   "cell_type": "code",
   "execution_count": 3,
   "metadata": {
    "collapsed": false
   },
   "outputs": [],
   "source": [
    "# configurations of nets\n",
    "\n",
    "# network of (x|z,beta)\n",
    "qsim_config = {'input_size': beta_size + z_size,\n",
    "                'n_layers': 1,\n",
    "               'units_per_layer': 50,\n",
    "               'out_size': 50,\n",
    "               'nonlinearity': tf.sigmoid}\n",
    "\n",
    "# network for ratio estimation\n",
    "r_config = {'input_size': beta_size + z_size +obs_per_subj,\n",
    "                'n_layers': 1,\n",
    "               'units_per_layer': 50,\n",
    "               'out_size': 50,\n",
    "               'nonlinearity': tf.sigmoid}\n",
    "\n",
    "# network for q(z|x,beta)\n",
    "qz_config = {'input_size': beta_size + obs_per_subj,\n",
    "                'n_layers': 1,\n",
    "               'units_per_layer': 50,\n",
    "               'out_size': 50,\n",
    "               'nonlinearity': tf.sigmoid}"
   ]
  },
  {
   "cell_type": "code",
   "execution_count": 4,
   "metadata": {
    "collapsed": false
   },
   "outputs": [],
   "source": [
    "# variables and placeholders\n",
    "global_dtype = tf.float32\n",
    "\n",
    "beta = tf.Variable(tf.random_normal(shape=[beta_size, 1]), dtype=global_dtype, name='beta')\n",
    "\n",
    "# x is a placeholder for a single subject's data\n",
    "x_ph = tf.placeholder(shape=[obs_per_subj, 1], dtype=global_dtype, name='x_ph')"
   ]
  },
  {
   "cell_type": "code",
   "execution_count": 5,
   "metadata": {
    "collapsed": true
   },
   "outputs": [],
   "source": [
    "# ops constructing all the nets\n",
    "def qz_op(x_ph, beta, qz_config):\n",
    "    \"\"\"qz takes in x and beta and returns z:  z ~ q(z | x, beta)\n",
    "    \"\"\"\n",
    "    return _reparam_nnet_gaussian(tf.concat([x_ph, beta], 0), z_size, qz_config)\n",
    "\n",
    "def qsim_op(z, beta, qsim_config):\n",
    "    \"\"\"qsim takes in z and beta and returns x:  x ~ q(x | z, beta)\n",
    "        x dimensionality should be batch_size by obs_per_subj\n",
    "    \"\"\"\n",
    "    # zconcat = [tf.concat([z_, beta], 0) for z_ in z]\n",
    "    return _reparam_nnet_gaussian(tf.concat([z, beta], 0), obs_per_subj, qsim_config)\n",
    "\n",
    "\n",
    "def r_op(x_p, x_q, z, beta, r_config):\n",
    "    \"\"\" Takes in x,z,beta returns r(x, z, beta)\n",
    "    \"\"\"\n",
    "    # we use the same r for all subjects and also for both x_p and x_q... \n",
    "    xp_concat = tf.concat([x_p, z, beta], 0)\n",
    "    xq_concat = tf.concat([x_q, z, beta], 0)\n",
    "    [r_p, r_q], r_vars = _mlp([xp_concat, xq_concat], **r_config)\n",
    "    \n",
    "    # # now readout into scalar\n",
    "    W = tf.Variable(tf.truncated_normal(shape=[1, r_config['units_per_layer']], stddev=0.001, dtype=global_dtype), name=\"r_w\", dtype=global_dtype)\n",
    "    b = tf.Variable(tf.ones(shape=[1]) * 0.1, name=\"r_b\", dtype=global_dtype)\n",
    "    r_vars.extend([W, b])\n",
    "\n",
    "    r_p = r_config['nonlinearity'](tf.matmul(W, r_p) + b)\n",
    "    r_q = r_config['nonlinearity'](tf.matmul(W, r_q) + b)\n",
    "\n",
    "    return r_p, r_q, r_vars\n"
   ]
  },
  {
   "cell_type": "code",
   "execution_count": 6,
   "metadata": {
    "collapsed": true
   },
   "outputs": [],
   "source": [
    "# construct the nets \n",
    "z, qz_vars = qz_op(x_ph, beta, qz_config)\n",
    "x_qsim, qsim_vars = qsim_op(z, beta, qsim_config) \n",
    "r_p, r_q, r_vars = r_op(x_ph, x_qsim, z, beta, r_config)\n",
    "\n",
    "# p(z|beta) is normal\n",
    "p_z = Normal(loc=beta[0], scale=tf.exp(beta[1]))\n",
    "\n",
    "# q(z|beta) is  normal p(z|beta') like in EM\n",
    "betaprime = tf.Variable(tf.random_normal(shape=[beta_size, 1]), dtype=global_dtype, name='betaprime')\n",
    "q_z = Normal(loc = betaprime[0], scale = tf.exp(betaprime[1]))"
   ]
  },
  {
   "cell_type": "code",
   "execution_count": 7,
   "metadata": {
    "collapsed": false
   },
   "outputs": [],
   "source": [
    "# ratio loss (cross-entropy)\n",
    "ratio_est_loss = tf.reduce_sum(-tf.log(tf.sigmoid(1e-5 + r_p)) - tf.log(tf.sigmoid(1e-5 + 1-r_q)))\n",
    "\n",
    "# optimizer steps: \n",
    "opt = tf.train.AdamOptimizer(0.005)\n",
    "ratio_est_step = opt.minimize(ratio_est_loss, var_list = [r_vars])"
   ]
  },
  {
   "cell_type": "code",
   "execution_count": 8,
   "metadata": {
    "collapsed": false,
    "scrolled": true
   },
   "outputs": [
    {
     "name": "stdout",
     "output_type": "stream",
     "text": [
      "step 0: ratio loss=18.965961\n",
      "step 50: ratio loss=12.876749\n",
      "step 100: ratio loss=12.862408\n",
      "step 150: ratio loss=13.644281\n",
      "step 200: ratio loss=12.557902\n",
      "step 250: ratio loss=13.302330\n"
     ]
    },
    {
     "data": {
      "text/plain": [
       "[<matplotlib.lines.Line2D at 0x11c2e0a58>]"
      ]
     },
     "execution_count": 8,
     "metadata": {},
     "output_type": "execute_result"
    },
    {
     "data": {
      "image/png": "[encoded data removed]",
      "text/plain": [
       "<matplotlib.figure.Figure at 0x11b3504a8>"
      ]
     },
     "metadata": {},
     "output_type": "display_data"
    }
   ],
   "source": [
    "# try ratio estimator alone, does it optimize? \n",
    "sess = tf.Session()\n",
    "sess.run(tf.global_variables_initializer())\n",
    "\n",
    "train_steps = 300\n",
    "ratio_loss_log = np.zeros(train_steps)\n",
    "\n",
    "for i in range(train_steps):\n",
    "    # fix a single z for each update, else the stochastic grad is not valid\n",
    "    z_current = [z.eval(session=sess, feed_dict={x_ph:x_}) for x_ in x_data]\n",
    "    x_p = [psim(subj_var, z_) for z_ in z_current]\n",
    "    \n",
    "    ratio_loss_log[i] = np.sum([ratio_est_loss.eval(session=sess, feed_dict={z:z_, x_ph:x_}) for (z_,x_) in  zip(z_current, x_p)])\n",
    "\n",
    "    # step ratio for each subject\n",
    "    for j in range(n_subj):\n",
    "        sess.run(ratio_est_step, feed_dict={x_ph: x_p[j], z:z_current[j]})\n",
    "    if i % 50 == 0:\n",
    "        print(\"step %i: ratio loss=%f\" %(i, ratio_loss_log[i]))\n",
    "\n",
    "import matplotlib.pyplot as plt\n",
    "%matplotlib inline\n",
    "plt.plot(ratio_loss_log) # looks okay "
   ]
  },
  {
   "cell_type": "code",
   "execution_count": 14,
   "metadata": {
    "collapsed": false
   },
   "outputs": [
    {
     "name": "stdout",
     "output_type": "stream",
     "text": [
      "step 0: ELBO=867.199646, beta_mu=-0.615616, beta_var=1.199771, bp_mu=2.460016, bp_var=0.266627\n",
      "step 10: ELBO=46284104.000000, beta_mu=-1.746057, beta_var=5.623719, bp_mu=4.534705, bp_var=0.030391\n",
      "step 20: ELBO=317449732096.000000, beta_mu=-1.845168, beta_var=17.283634, bp_mu=7.906955, bp_var=0.000957\n",
      "step 30: ELBO=5133453360103424.000000, beta_mu=-1.873330, beta_var=37.962246, bp_mu=12.161045, bp_var=0.000013\n",
      "step 40: ELBO=nan, beta_mu=nan, beta_var=nan, bp_mu=nan, bp_var=nan\n",
      "step 50: ELBO=nan, beta_mu=nan, beta_var=nan, bp_mu=nan, bp_var=nan\n",
      "step 60: ELBO=nan, beta_mu=nan, beta_var=nan, bp_mu=nan, bp_var=nan\n",
      "step 70: ELBO=nan, beta_mu=nan, beta_var=nan, bp_mu=nan, bp_var=nan\n",
      "step 80: ELBO=nan, beta_mu=nan, beta_var=nan, bp_mu=nan, bp_var=nan\n",
      "step 90: ELBO=nan, beta_mu=nan, beta_var=nan, bp_mu=nan, bp_var=nan\n"
     ]
    },
    {
     "data": {
      "text/plain": [
       "[<matplotlib.lines.Line2D at 0x11dafa5c0>]"
      ]
     },
     "execution_count": 14,
     "metadata": {},
     "output_type": "execute_result"
    },
    {
     "data": {
      "image/png": "[encoded data removed]",
      "text/plain": [
       "<matplotlib.figure.Figure at 0x10c59fc88>"
      ]
     },
     "metadata": {},
     "output_type": "display_data"
    },
    {
     "data": {
      "image/png": "[encoded data removed]",
      "text/plain": [
       "<matplotlib.figure.Figure at 0x10c59fef0>"
      ]
     },
     "metadata": {},
     "output_type": "display_data"
    },
    {
     "data": {
      "image/png": "[encoded data removed]",
      "text/plain": [
       "<matplotlib.figure.Figure at 0x11e4ca668>"
      ]
     },
     "metadata": {},
     "output_type": "display_data"
    }
   ],
   "source": [
    "# elbo: p(z|beta) - q(z|beta) + r*(x,z,beta), everything factors by subject\n",
    "kl = p_z.log_prob(z) - q_z.log_prob(z)\n",
    "# kl = kl_divergence(q_z, p_z)\n",
    "# elbo =  kl + r_p\n",
    "elbo =  r_p + kl\n",
    "\n",
    "elbo_step = opt.minimize(-elbo, var_list=[qsim_vars, qz_vars, beta, betaprime])\n",
    "\n",
    "sess = tf.Session()\n",
    "sess.run(tf.global_variables_initializer())\n",
    "\n",
    "train_steps = 100\n",
    "elbo_log = np.zeros(train_steps)\n",
    "r_p_log = np.zeros(train_steps)\n",
    "kl_log = np.zeros(train_steps)\n",
    "\n",
    "# oldbeta = beta.eval(session=sess)\n",
    "for i in range(train_steps):\n",
    "    \n",
    "    # record elbo etc before step\n",
    "    elbo_log[i] = np.sum([elbo.eval(session=sess, feed_dict={x_ph:x_, z:z_}) for x_,z_ in zip(x_data, z_current)])\n",
    "#     kl_log[i] = np.sum([kl.eval(session=sess, feed_dict={x_ph:x_, z:z_, betaprime:oldbeta}) for x_,z_ in zip(x_data, z_current)])\n",
    "    kl_log[i] = np.sum([kl.eval(session=sess, feed_dict={x_ph:x_, z:z_}) for x_,z_ in zip(x_data, z_current)])\n",
    "    r_p_log[i] = np.sum([r_p.eval(session=sess, feed_dict={x_ph:x_, z:z_}) for x_,z_ in zip(x_data, z_current)])\n",
    "\n",
    "    # fix a z for this step\n",
    "    z_current = [z.eval(session=sess, feed_dict={x_ph:x_}) for x_ in x_data]\n",
    "    # M-step on the z|beta KL ? \n",
    "#     oldbeta = beta.eval(session=sess)\n",
    "\n",
    "    # step elbo for each subject\n",
    "    for j in range(n_subj):\n",
    "        sess.run(elbo_step, feed_dict={x_ph: x_data[j], z:z_current[j]})\n",
    "    \n",
    "\n",
    "    if i % 10 == 0:\n",
    "        beta_hat = beta.eval(session=sess)\n",
    "        betaprime_hat = betaprime.eval(session=sess)\n",
    "        print(\"step %i: ELBO=%f, beta_mu=%f, beta_var=%f, bp_mu=%f, bp_var=%f\" %\n",
    "              (i, elbo_log[i], beta_hat[0], np.exp(beta_hat[1]), betaprime_hat[0], np.exp(betaprime_hat[1])))\n",
    "        \n",
    "plt.plot(elbo_log) # ELBO explodes\n",
    "plt.figure()\n",
    "plt.plot(kl_log) \n",
    "plt.figure()\n",
    "plt.plot(r_p_log) \n",
    "\n",
    "# also KL and r() don't even add to ELBO? "
   ]
  },
  {
   "cell_type": "code",
   "execution_count": 11,
   "metadata": {
    "collapsed": false
   },
   "outputs": [
    {
     "name": "stdout",
     "output_type": "stream",
     "text": [
      "step 0: ratio loss=nan, ELBO=nan, beta_mu=-0.728820, beta_var=1.308095\n"
     ]
    },
    {
     "ename": "KeyboardInterrupt",
     "evalue": "",
     "output_type": "error",
     "traceback": [
      "\u001b[0;31m---------------------------------------------------------------------------\u001b[0m",
      "\u001b[0;31mKeyboardInterrupt\u001b[0m                         Traceback (most recent call last)",
      "\u001b[0;32m<ipython-input-11-3ef16ba29916>\u001b[0m in \u001b[0;36m<module>\u001b[0;34m()\u001b[0m\n\u001b[1;32m     33\u001b[0m         \u001b[0mx_p\u001b[0m \u001b[0;34m=\u001b[0m \u001b[0;34m[\u001b[0m\u001b[0mpsim\u001b[0m\u001b[0;34m(\u001b[0m\u001b[0msubj_var\u001b[0m\u001b[0;34m,\u001b[0m \u001b[0mz_\u001b[0m\u001b[0;34m)\u001b[0m \u001b[0;32mfor\u001b[0m \u001b[0mz_\u001b[0m \u001b[0;32min\u001b[0m \u001b[0mz_current\u001b[0m\u001b[0;34m]\u001b[0m\u001b[0;34m\u001b[0m\u001b[0m\n\u001b[1;32m     34\u001b[0m         \u001b[0;32mfor\u001b[0m \u001b[0mj\u001b[0m \u001b[0;32min\u001b[0m \u001b[0mrange\u001b[0m\u001b[0;34m(\u001b[0m\u001b[0mn_subj\u001b[0m\u001b[0;34m)\u001b[0m\u001b[0;34m:\u001b[0m\u001b[0;34m\u001b[0m\u001b[0m\n\u001b[0;32m---> 35\u001b[0;31m             \u001b[0msess\u001b[0m\u001b[0;34m.\u001b[0m\u001b[0mrun\u001b[0m\u001b[0;34m(\u001b[0m\u001b[0mratio_est_step\u001b[0m\u001b[0;34m,\u001b[0m \u001b[0mfeed_dict\u001b[0m\u001b[0;34m=\u001b[0m\u001b[0;34m{\u001b[0m\u001b[0mx_ph\u001b[0m\u001b[0;34m:\u001b[0m \u001b[0mx_p\u001b[0m\u001b[0;34m[\u001b[0m\u001b[0mj\u001b[0m\u001b[0;34m]\u001b[0m\u001b[0;34m,\u001b[0m \u001b[0mz\u001b[0m\u001b[0;34m:\u001b[0m\u001b[0mz_current\u001b[0m\u001b[0;34m[\u001b[0m\u001b[0mj\u001b[0m\u001b[0;34m]\u001b[0m\u001b[0;34m}\u001b[0m\u001b[0;34m)\u001b[0m\u001b[0;34m\u001b[0m\u001b[0m\n\u001b[0m\u001b[1;32m     36\u001b[0m \u001b[0;34m\u001b[0m\u001b[0m\n\u001b[1;32m     37\u001b[0m     \u001b[0;32mif\u001b[0m \u001b[0mi\u001b[0m \u001b[0;34m%\u001b[0m \u001b[0;36m50\u001b[0m \u001b[0;34m==\u001b[0m \u001b[0;36m0\u001b[0m\u001b[0;34m:\u001b[0m\u001b[0;34m\u001b[0m\u001b[0m\n",
      "\u001b[0;32m~/anaconda/envs/tf/lib/python3.6/site-packages/tensorflow/python/client/session.py\u001b[0m in \u001b[0;36mrun\u001b[0;34m(self, fetches, feed_dict, options, run_metadata)\u001b[0m\n\u001b[1;32m    887\u001b[0m     \u001b[0;32mtry\u001b[0m\u001b[0;34m:\u001b[0m\u001b[0;34m\u001b[0m\u001b[0m\n\u001b[1;32m    888\u001b[0m       result = self._run(None, fetches, feed_dict, options_ptr,\n\u001b[0;32m--> 889\u001b[0;31m                          run_metadata_ptr)\n\u001b[0m\u001b[1;32m    890\u001b[0m       \u001b[0;32mif\u001b[0m \u001b[0mrun_metadata\u001b[0m\u001b[0;34m:\u001b[0m\u001b[0;34m\u001b[0m\u001b[0m\n\u001b[1;32m    891\u001b[0m         \u001b[0mproto_data\u001b[0m \u001b[0;34m=\u001b[0m \u001b[0mtf_session\u001b[0m\u001b[0;34m.\u001b[0m\u001b[0mTF_GetBuffer\u001b[0m\u001b[0;34m(\u001b[0m\u001b[0mrun_metadata_ptr\u001b[0m\u001b[0;34m)\u001b[0m\u001b[0;34m\u001b[0m\u001b[0m\n",
      "\u001b[0;32m~/anaconda/envs/tf/lib/python3.6/site-packages/tensorflow/python/client/session.py\u001b[0m in \u001b[0;36m_run\u001b[0;34m(self, handle, fetches, feed_dict, options, run_metadata)\u001b[0m\n\u001b[1;32m   1118\u001b[0m     \u001b[0;32mif\u001b[0m \u001b[0mfinal_fetches\u001b[0m \u001b[0;32mor\u001b[0m \u001b[0mfinal_targets\u001b[0m \u001b[0;32mor\u001b[0m \u001b[0;34m(\u001b[0m\u001b[0mhandle\u001b[0m \u001b[0;32mand\u001b[0m \u001b[0mfeed_dict_tensor\u001b[0m\u001b[0;34m)\u001b[0m\u001b[0;34m:\u001b[0m\u001b[0;34m\u001b[0m\u001b[0m\n\u001b[1;32m   1119\u001b[0m       results = self._do_run(handle, final_targets, final_fetches,\n\u001b[0;32m-> 1120\u001b[0;31m                              feed_dict_tensor, options, run_metadata)\n\u001b[0m\u001b[1;32m   1121\u001b[0m     \u001b[0;32melse\u001b[0m\u001b[0;34m:\u001b[0m\u001b[0;34m\u001b[0m\u001b[0m\n\u001b[1;32m   1122\u001b[0m       \u001b[0mresults\u001b[0m \u001b[0;34m=\u001b[0m \u001b[0;34m[\u001b[0m\u001b[0;34m]\u001b[0m\u001b[0;34m\u001b[0m\u001b[0m\n",
      "\u001b[0;32m~/anaconda/envs/tf/lib/python3.6/site-packages/tensorflow/python/client/session.py\u001b[0m in \u001b[0;36m_do_run\u001b[0;34m(self, handle, target_list, fetch_list, feed_dict, options, run_metadata)\u001b[0m\n\u001b[1;32m   1315\u001b[0m     \u001b[0;32mif\u001b[0m \u001b[0mhandle\u001b[0m \u001b[0;32mis\u001b[0m \u001b[0;32mNone\u001b[0m\u001b[0;34m:\u001b[0m\u001b[0;34m\u001b[0m\u001b[0m\n\u001b[1;32m   1316\u001b[0m       return self._do_call(_run_fn, self._session, feeds, fetches, targets,\n\u001b[0;32m-> 1317\u001b[0;31m                            options, run_metadata)\n\u001b[0m\u001b[1;32m   1318\u001b[0m     \u001b[0;32melse\u001b[0m\u001b[0;34m:\u001b[0m\u001b[0;34m\u001b[0m\u001b[0m\n\u001b[1;32m   1319\u001b[0m       \u001b[0;32mreturn\u001b[0m \u001b[0mself\u001b[0m\u001b[0;34m.\u001b[0m\u001b[0m_do_call\u001b[0m\u001b[0;34m(\u001b[0m\u001b[0m_prun_fn\u001b[0m\u001b[0;34m,\u001b[0m \u001b[0mself\u001b[0m\u001b[0;34m.\u001b[0m\u001b[0m_session\u001b[0m\u001b[0;34m,\u001b[0m \u001b[0mhandle\u001b[0m\u001b[0;34m,\u001b[0m \u001b[0mfeeds\u001b[0m\u001b[0;34m,\u001b[0m \u001b[0mfetches\u001b[0m\u001b[0;34m)\u001b[0m\u001b[0;34m\u001b[0m\u001b[0m\n",
      "\u001b[0;32m~/anaconda/envs/tf/lib/python3.6/site-packages/tensorflow/python/client/session.py\u001b[0m in \u001b[0;36m_do_call\u001b[0;34m(self, fn, *args)\u001b[0m\n\u001b[1;32m   1321\u001b[0m   \u001b[0;32mdef\u001b[0m \u001b[0m_do_call\u001b[0m\u001b[0;34m(\u001b[0m\u001b[0mself\u001b[0m\u001b[0;34m,\u001b[0m \u001b[0mfn\u001b[0m\u001b[0;34m,\u001b[0m \u001b[0;34m*\u001b[0m\u001b[0margs\u001b[0m\u001b[0;34m)\u001b[0m\u001b[0;34m:\u001b[0m\u001b[0;34m\u001b[0m\u001b[0m\n\u001b[1;32m   1322\u001b[0m     \u001b[0;32mtry\u001b[0m\u001b[0;34m:\u001b[0m\u001b[0;34m\u001b[0m\u001b[0m\n\u001b[0;32m-> 1323\u001b[0;31m       \u001b[0;32mreturn\u001b[0m \u001b[0mfn\u001b[0m\u001b[0;34m(\u001b[0m\u001b[0;34m*\u001b[0m\u001b[0margs\u001b[0m\u001b[0;34m)\u001b[0m\u001b[0;34m\u001b[0m\u001b[0m\n\u001b[0m\u001b[1;32m   1324\u001b[0m     \u001b[0;32mexcept\u001b[0m \u001b[0merrors\u001b[0m\u001b[0;34m.\u001b[0m\u001b[0mOpError\u001b[0m \u001b[0;32mas\u001b[0m \u001b[0me\u001b[0m\u001b[0;34m:\u001b[0m\u001b[0;34m\u001b[0m\u001b[0m\n\u001b[1;32m   1325\u001b[0m       \u001b[0mmessage\u001b[0m \u001b[0;34m=\u001b[0m \u001b[0mcompat\u001b[0m\u001b[0;34m.\u001b[0m\u001b[0mas_text\u001b[0m\u001b[0;34m(\u001b[0m\u001b[0me\u001b[0m\u001b[0;34m.\u001b[0m\u001b[0mmessage\u001b[0m\u001b[0;34m)\u001b[0m\u001b[0;34m\u001b[0m\u001b[0m\n",
      "\u001b[0;32m~/anaconda/envs/tf/lib/python3.6/site-packages/tensorflow/python/client/session.py\u001b[0m in \u001b[0;36m_run_fn\u001b[0;34m(session, feed_dict, fetch_list, target_list, options, run_metadata)\u001b[0m\n\u001b[1;32m   1300\u001b[0m           return tf_session.TF_Run(session, options,\n\u001b[1;32m   1301\u001b[0m                                    \u001b[0mfeed_dict\u001b[0m\u001b[0;34m,\u001b[0m \u001b[0mfetch_list\u001b[0m\u001b[0;34m,\u001b[0m \u001b[0mtarget_list\u001b[0m\u001b[0;34m,\u001b[0m\u001b[0;34m\u001b[0m\u001b[0m\n\u001b[0;32m-> 1302\u001b[0;31m                                    status, run_metadata)\n\u001b[0m\u001b[1;32m   1303\u001b[0m \u001b[0;34m\u001b[0m\u001b[0m\n\u001b[1;32m   1304\u001b[0m     \u001b[0;32mdef\u001b[0m \u001b[0m_prun_fn\u001b[0m\u001b[0;34m(\u001b[0m\u001b[0msession\u001b[0m\u001b[0;34m,\u001b[0m \u001b[0mhandle\u001b[0m\u001b[0;34m,\u001b[0m \u001b[0mfeed_dict\u001b[0m\u001b[0;34m,\u001b[0m \u001b[0mfetch_list\u001b[0m\u001b[0;34m)\u001b[0m\u001b[0;34m:\u001b[0m\u001b[0;34m\u001b[0m\u001b[0m\n",
      "\u001b[0;31mKeyboardInterrupt\u001b[0m: "
     ]
    }
   ],
   "source": [
    "# optimize together, everything is worse... \n",
    "\n",
    "sess = tf.Session()\n",
    "sess.run(tf.global_variables_initializer())\n",
    "\n",
    "train_steps = 1000\n",
    "ratio_loss_log = np.zeros(train_steps)\n",
    "elbo_log = np.zeros(train_steps)\n",
    "r_p_log = np.zeros(train_steps)\n",
    "kl_log = np.zeros(train_steps)\n",
    "\n",
    "for i in range(train_steps):\n",
    "\n",
    "    # record elbo etc before step\n",
    "    elbo_log[i] = np.sum([elbo.eval(session=sess, feed_dict={x_ph:x_, z:z_}) for x_,z_ in zip(x_data, z_current)])\n",
    "    kl_log[i] = np.sum([kl.eval(session=sess, feed_dict={x_ph:x_, z:z_, betaprime:oldbeta}) for x_,z_ in zip(x_data, z_current)])\n",
    "    r_p_log[i] = np.sum([r_p.eval(session=sess, feed_dict={x_ph:x_, z:z_}) for x_,z_ in zip(x_data, z_current)])\n",
    "    ratio_loss_log[i] = np.sum([ratio_est_loss.eval(session=sess, feed_dict={z:z_, x_ph:x_}) for (z_,x_) in  zip(z_current, x_p)])\n",
    "    \n",
    "    # fix a z for this step\n",
    "    z_current = [z.eval(session=sess, feed_dict={x_ph:x_}) for x_ in x_data]\n",
    "    # M-step on the z|beta KL ? \n",
    "    oldbeta = beta.eval(session=sess)\n",
    "\n",
    "    # step elbo for each subject\n",
    "    for j in range(n_subj):\n",
    "        sess.run(elbo_step, feed_dict={x_ph: x_data[j], z:z_current[j]})\n",
    "    \n",
    "\n",
    "\n",
    "    #  step ratio for each subject\n",
    "    for k in range(20):\n",
    "        x_p = [psim(subj_var, z_) for z_ in z_current]\n",
    "        for j in range(n_subj):\n",
    "            sess.run(ratio_est_step, feed_dict={x_ph: x_p[j], z:z_current[j]})\n",
    "\n",
    "    if i % 50 == 0:\n",
    "        beta_hat = beta.eval(session=sess)\n",
    "        print(\"step %i: ratio loss=%f, ELBO=%f, beta_mu=%f, beta_var=%f\" %\n",
    "              (i, ratio_loss_log[i], elbo_log[i], beta_hat[0], np.exp(beta_hat[1])))\n"
   ]
  },
  {
   "cell_type": "code",
   "execution_count": null,
   "metadata": {
    "collapsed": false
   },
   "outputs": [],
   "source": [
    "plt.plot(ratio_loss_log) # nice and smooth\n",
    "plt.figure()\n",
    "plt.plot(elbo_log) # explodes"
   ]
  },
  {
   "cell_type": "code",
   "execution_count": null,
   "metadata": {
    "collapsed": true
   },
   "outputs": [],
   "source": []
  }
 ],
 "metadata": {
  "anaconda-cloud": {},
  "kernelspec": {
   "display_name": "Python (tf)",
   "language": "python",
   "name": "tf"
  },
  "language_info": {
   "codemirror_mode": {
    "name": "ipython",
    "version": 3
   },
   "file_extension": ".py",
   "mimetype": "text/x-python",
   "name": "python",
   "nbconvert_exporter": "python",
   "pygments_lexer": "ipython3",
   "version": "3.6.1"
  }
 },
 "nbformat": 4,
 "nbformat_minor": 2
}
